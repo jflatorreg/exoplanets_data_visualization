{
 "cells": [
  {
   "cell_type": "markdown",
   "metadata": {
    "colab_type": "text",
    "id": "q8tPHYDVS3gk"
   },
   "source": [
    "# Visualización de Base de Datos de Exoplanetas\n"
   ]
  },
  {
   "cell_type": "markdown",
   "metadata": {
    "colab_type": "text",
    "id": "gLsify1KXlEE"
   },
   "source": [
    "![alt text](https://ep01.epimg.net/portadillasetiquetas/imagenes/2017/02/23/portadilla/1487865835_992873_1487865974_portadilla_normal.jpg)"
   ]
  },
  {
   "cell_type": "markdown",
   "metadata": {
    "colab_type": "text",
    "id": "XB4ttVpgBac7"
   },
   "source": [
    "# Motivación "
   ]
  },
  {
   "cell_type": "markdown",
   "metadata": {
    "colab_type": "text",
    "id": "efzCJax1Bz9i"
   },
   "source": [
    "La investigación de planetas extra solares es una área de la astronomía que a crecido debido al lanzamiento de nuevos y poderosos observatorios astronómicos espaciales, así mismo la cantidad de datos que estas investigaciones arrojan han crecido bastante, a continuación se muestra la visualización de una base de datos que cataloga las características observadas en los planetas extra solares que se han descubierto.\n",
    "[Fuente](http://exoplanet.eu/catalog/all_fields/)"
   ]
  },
  {
   "cell_type": "code",
   "execution_count": 0,
   "metadata": {
    "colab": {},
    "colab_type": "code",
    "id": "b5eirAgEVWeL"
   },
   "outputs": [],
   "source": [
    "import numpy as np\n",
    "import pandas as pd\n",
    "import matplotlib.pyplot as plt\n",
    "import seaborn as sns\n",
    "%matplotlib inline"
   ]
  },
  {
   "cell_type": "code",
   "execution_count": 0,
   "metadata": {
    "colab": {},
    "colab_type": "code",
    "id": "bOf4WetW7r3w"
   },
   "outputs": [],
   "source": [
    "df = pd.read_csv('exoplanet.csv')"
   ]
  },
  {
   "cell_type": "markdown",
   "metadata": {
    "colab_type": "text",
    "id": "G6H97ZUNEEK7"
   },
   "source": [
    "# Exploración de Datos"
   ]
  },
  {
   "cell_type": "code",
   "execution_count": 0,
   "metadata": {
    "colab": {
     "base_uri": "https://localhost:8080/",
     "height": 440
    },
    "colab_type": "code",
    "id": "tTOmgxoI79Te",
    "outputId": "67a6af38-35f0-441d-83aa-c7db7785645e"
   },
   "outputs": [
    {
     "data": {
      "text/html": [
       "<div>\n",
       "<style scoped>\n",
       "    .dataframe tbody tr th:only-of-type {\n",
       "        vertical-align: middle;\n",
       "    }\n",
       "\n",
       "    .dataframe tbody tr th {\n",
       "        vertical-align: top;\n",
       "    }\n",
       "\n",
       "    .dataframe thead th {\n",
       "        text-align: right;\n",
       "    }\n",
       "</style>\n",
       "<table border=\"1\" class=\"dataframe\">\n",
       "  <thead>\n",
       "    <tr style=\"text-align: right;\">\n",
       "      <th></th>\n",
       "      <th># name</th>\n",
       "      <th>planet_status</th>\n",
       "      <th>mass</th>\n",
       "      <th>mass_error_min</th>\n",
       "      <th>mass_error_max</th>\n",
       "      <th>mass_sini</th>\n",
       "      <th>mass_sini_error_min</th>\n",
       "      <th>mass_sini_error_max</th>\n",
       "      <th>radius</th>\n",
       "      <th>radius_error_min</th>\n",
       "      <th>radius_error_max</th>\n",
       "      <th>orbital_period</th>\n",
       "      <th>orbital_period_error_min</th>\n",
       "      <th>orbital_period_error_max</th>\n",
       "      <th>semi_major_axis</th>\n",
       "      <th>semi_major_axis_error_min</th>\n",
       "      <th>semi_major_axis_error_max</th>\n",
       "      <th>eccentricity</th>\n",
       "      <th>eccentricity_error_min</th>\n",
       "      <th>eccentricity_error_max</th>\n",
       "      <th>inclination</th>\n",
       "      <th>inclination_error_min</th>\n",
       "      <th>inclination_error_max</th>\n",
       "      <th>angular_distance</th>\n",
       "      <th>discovered</th>\n",
       "      <th>updated</th>\n",
       "      <th>omega</th>\n",
       "      <th>omega_error_min</th>\n",
       "      <th>omega_error_max</th>\n",
       "      <th>tperi</th>\n",
       "      <th>tperi_error_min</th>\n",
       "      <th>tperi_error_max</th>\n",
       "      <th>tconj</th>\n",
       "      <th>tconj_error_min</th>\n",
       "      <th>tconj_error_max</th>\n",
       "      <th>tzero_tr</th>\n",
       "      <th>tzero_tr_error_min</th>\n",
       "      <th>tzero_tr_error_max</th>\n",
       "      <th>tzero_tr_sec</th>\n",
       "      <th>tzero_tr_sec_error_min</th>\n",
       "      <th>...</th>\n",
       "      <th>geometric_albedo</th>\n",
       "      <th>geometric_albedo_error_min</th>\n",
       "      <th>geometric_albedo_error_max</th>\n",
       "      <th>log_g</th>\n",
       "      <th>publication</th>\n",
       "      <th>detection_type</th>\n",
       "      <th>mass_detection_type</th>\n",
       "      <th>radius_detection_type</th>\n",
       "      <th>alternate_names</th>\n",
       "      <th>molecules</th>\n",
       "      <th>star_name</th>\n",
       "      <th>ra</th>\n",
       "      <th>dec</th>\n",
       "      <th>mag_v</th>\n",
       "      <th>mag_i</th>\n",
       "      <th>mag_j</th>\n",
       "      <th>mag_h</th>\n",
       "      <th>mag_k</th>\n",
       "      <th>star_distance</th>\n",
       "      <th>star_distance_error_min</th>\n",
       "      <th>star_distance_error_max</th>\n",
       "      <th>star_metallicity</th>\n",
       "      <th>star_metallicity_error_min</th>\n",
       "      <th>star_metallicity_error_max</th>\n",
       "      <th>star_mass</th>\n",
       "      <th>star_mass_error_min</th>\n",
       "      <th>star_mass_error_max</th>\n",
       "      <th>star_radius</th>\n",
       "      <th>star_radius_error_min</th>\n",
       "      <th>star_radius_error_max</th>\n",
       "      <th>star_sp_type</th>\n",
       "      <th>star_age</th>\n",
       "      <th>star_age_error_min</th>\n",
       "      <th>star_age_error_max</th>\n",
       "      <th>star_teff</th>\n",
       "      <th>star_teff_error_min</th>\n",
       "      <th>star_teff_error_max</th>\n",
       "      <th>star_detected_disc</th>\n",
       "      <th>star_magnetic_field</th>\n",
       "      <th>star_alternate_names</th>\n",
       "    </tr>\n",
       "  </thead>\n",
       "  <tbody>\n",
       "    <tr>\n",
       "      <th>0</th>\n",
       "      <td>11 Com b</td>\n",
       "      <td>Confirmed</td>\n",
       "      <td>19.40</td>\n",
       "      <td>1.50</td>\n",
       "      <td>1.50</td>\n",
       "      <td>19.40</td>\n",
       "      <td>1.50</td>\n",
       "      <td>1.50</td>\n",
       "      <td>NaN</td>\n",
       "      <td>NaN</td>\n",
       "      <td>NaN</td>\n",
       "      <td>326.03</td>\n",
       "      <td>0.32</td>\n",
       "      <td>0.32</td>\n",
       "      <td>1.29</td>\n",
       "      <td>0.05</td>\n",
       "      <td>0.05</td>\n",
       "      <td>0.231</td>\n",
       "      <td>0.005</td>\n",
       "      <td>0.005</td>\n",
       "      <td>NaN</td>\n",
       "      <td>NaN</td>\n",
       "      <td>NaN</td>\n",
       "      <td>0.011664</td>\n",
       "      <td>2008.0</td>\n",
       "      <td>2015-08-21</td>\n",
       "      <td>94.80</td>\n",
       "      <td>1.50</td>\n",
       "      <td>1.50</td>\n",
       "      <td>2452899.60</td>\n",
       "      <td>1.60</td>\n",
       "      <td>1.60</td>\n",
       "      <td>NaN</td>\n",
       "      <td>NaN</td>\n",
       "      <td>NaN</td>\n",
       "      <td>NaN</td>\n",
       "      <td>NaN</td>\n",
       "      <td>NaN</td>\n",
       "      <td>NaN</td>\n",
       "      <td>NaN</td>\n",
       "      <td>...</td>\n",
       "      <td>NaN</td>\n",
       "      <td>NaN</td>\n",
       "      <td>NaN</td>\n",
       "      <td>NaN</td>\n",
       "      <td>Published in a refereed paper</td>\n",
       "      <td>Radial Velocity</td>\n",
       "      <td>NaN</td>\n",
       "      <td>NaN</td>\n",
       "      <td>NaN</td>\n",
       "      <td>NaN</td>\n",
       "      <td>11 Com</td>\n",
       "      <td>185.179167</td>\n",
       "      <td>17.792778</td>\n",
       "      <td>4.74</td>\n",
       "      <td>NaN</td>\n",
       "      <td>NaN</td>\n",
       "      <td>NaN</td>\n",
       "      <td>NaN</td>\n",
       "      <td>110.6</td>\n",
       "      <td>10.5</td>\n",
       "      <td>10.5</td>\n",
       "      <td>-0.35</td>\n",
       "      <td>0.09</td>\n",
       "      <td>0.09</td>\n",
       "      <td>2.7000</td>\n",
       "      <td>0.300</td>\n",
       "      <td>0.300</td>\n",
       "      <td>19.000</td>\n",
       "      <td>2.000</td>\n",
       "      <td>2.000</td>\n",
       "      <td>G8 III</td>\n",
       "      <td>NaN</td>\n",
       "      <td>NaN</td>\n",
       "      <td>NaN</td>\n",
       "      <td>4742.0</td>\n",
       "      <td>100.0</td>\n",
       "      <td>100.0</td>\n",
       "      <td>NaN</td>\n",
       "      <td>NaN</td>\n",
       "      <td>NaN</td>\n",
       "    </tr>\n",
       "    <tr>\n",
       "      <th>1</th>\n",
       "      <td>11 Oph b</td>\n",
       "      <td>Confirmed</td>\n",
       "      <td>21.00</td>\n",
       "      <td>3.00</td>\n",
       "      <td>3.00</td>\n",
       "      <td>NaN</td>\n",
       "      <td>NaN</td>\n",
       "      <td>NaN</td>\n",
       "      <td>NaN</td>\n",
       "      <td>NaN</td>\n",
       "      <td>NaN</td>\n",
       "      <td>730000.00</td>\n",
       "      <td>365000.00</td>\n",
       "      <td>365000.00</td>\n",
       "      <td>243.00</td>\n",
       "      <td>55.00</td>\n",
       "      <td>55.00</td>\n",
       "      <td>NaN</td>\n",
       "      <td>NaN</td>\n",
       "      <td>NaN</td>\n",
       "      <td>NaN</td>\n",
       "      <td>NaN</td>\n",
       "      <td>NaN</td>\n",
       "      <td>1.675862</td>\n",
       "      <td>2007.0</td>\n",
       "      <td>2018-06-18</td>\n",
       "      <td>NaN</td>\n",
       "      <td>NaN</td>\n",
       "      <td>NaN</td>\n",
       "      <td>NaN</td>\n",
       "      <td>NaN</td>\n",
       "      <td>NaN</td>\n",
       "      <td>NaN</td>\n",
       "      <td>NaN</td>\n",
       "      <td>NaN</td>\n",
       "      <td>NaN</td>\n",
       "      <td>NaN</td>\n",
       "      <td>NaN</td>\n",
       "      <td>NaN</td>\n",
       "      <td>NaN</td>\n",
       "      <td>...</td>\n",
       "      <td>NaN</td>\n",
       "      <td>NaN</td>\n",
       "      <td>NaN</td>\n",
       "      <td>NaN</td>\n",
       "      <td>Published in a refereed paper</td>\n",
       "      <td>Imaging</td>\n",
       "      <td>NaN</td>\n",
       "      <td>NaN</td>\n",
       "      <td>Oph 1622-2405 b</td>\n",
       "      <td>NaN</td>\n",
       "      <td>11 Oph</td>\n",
       "      <td>245.604167</td>\n",
       "      <td>-24.087222</td>\n",
       "      <td>NaN</td>\n",
       "      <td>NaN</td>\n",
       "      <td>NaN</td>\n",
       "      <td>NaN</td>\n",
       "      <td>14.03</td>\n",
       "      <td>145.0</td>\n",
       "      <td>20.0</td>\n",
       "      <td>20.0</td>\n",
       "      <td>NaN</td>\n",
       "      <td>NaN</td>\n",
       "      <td>NaN</td>\n",
       "      <td>0.0162</td>\n",
       "      <td>0.005</td>\n",
       "      <td>0.005</td>\n",
       "      <td>NaN</td>\n",
       "      <td>NaN</td>\n",
       "      <td>NaN</td>\n",
       "      <td>M9</td>\n",
       "      <td>0.011</td>\n",
       "      <td>0.002</td>\n",
       "      <td>0.002</td>\n",
       "      <td>2375.0</td>\n",
       "      <td>175.0</td>\n",
       "      <td>175.0</td>\n",
       "      <td>NaN</td>\n",
       "      <td>NaN</td>\n",
       "      <td>Oph 11A, Oph 1622-2405</td>\n",
       "    </tr>\n",
       "    <tr>\n",
       "      <th>2</th>\n",
       "      <td>11 UMi b</td>\n",
       "      <td>Confirmed</td>\n",
       "      <td>10.50</td>\n",
       "      <td>2.47</td>\n",
       "      <td>2.47</td>\n",
       "      <td>10.50</td>\n",
       "      <td>2.47</td>\n",
       "      <td>2.47</td>\n",
       "      <td>NaN</td>\n",
       "      <td>NaN</td>\n",
       "      <td>NaN</td>\n",
       "      <td>516.22</td>\n",
       "      <td>3.25</td>\n",
       "      <td>3.25</td>\n",
       "      <td>1.54</td>\n",
       "      <td>0.07</td>\n",
       "      <td>0.07</td>\n",
       "      <td>0.080</td>\n",
       "      <td>0.030</td>\n",
       "      <td>0.030</td>\n",
       "      <td>NaN</td>\n",
       "      <td>NaN</td>\n",
       "      <td>NaN</td>\n",
       "      <td>0.012887</td>\n",
       "      <td>2009.0</td>\n",
       "      <td>2009-08-13</td>\n",
       "      <td>117.63</td>\n",
       "      <td>21.06</td>\n",
       "      <td>21.06</td>\n",
       "      <td>2452861.05</td>\n",
       "      <td>2.06</td>\n",
       "      <td>2.06</td>\n",
       "      <td>NaN</td>\n",
       "      <td>NaN</td>\n",
       "      <td>NaN</td>\n",
       "      <td>NaN</td>\n",
       "      <td>NaN</td>\n",
       "      <td>NaN</td>\n",
       "      <td>NaN</td>\n",
       "      <td>NaN</td>\n",
       "      <td>...</td>\n",
       "      <td>NaN</td>\n",
       "      <td>NaN</td>\n",
       "      <td>NaN</td>\n",
       "      <td>NaN</td>\n",
       "      <td>Published in a refereed paper</td>\n",
       "      <td>Radial Velocity</td>\n",
       "      <td>NaN</td>\n",
       "      <td>NaN</td>\n",
       "      <td>NaN</td>\n",
       "      <td>NaN</td>\n",
       "      <td>11 UMi</td>\n",
       "      <td>229.275000</td>\n",
       "      <td>71.823889</td>\n",
       "      <td>5.02</td>\n",
       "      <td>NaN</td>\n",
       "      <td>NaN</td>\n",
       "      <td>NaN</td>\n",
       "      <td>NaN</td>\n",
       "      <td>119.5</td>\n",
       "      <td>6.9</td>\n",
       "      <td>6.9</td>\n",
       "      <td>0.04</td>\n",
       "      <td>0.04</td>\n",
       "      <td>0.04</td>\n",
       "      <td>1.8000</td>\n",
       "      <td>0.250</td>\n",
       "      <td>0.250</td>\n",
       "      <td>24.080</td>\n",
       "      <td>1.840</td>\n",
       "      <td>1.840</td>\n",
       "      <td>K4III</td>\n",
       "      <td>1.560</td>\n",
       "      <td>0.540</td>\n",
       "      <td>0.540</td>\n",
       "      <td>4340.0</td>\n",
       "      <td>70.0</td>\n",
       "      <td>70.0</td>\n",
       "      <td>NaN</td>\n",
       "      <td>NaN</td>\n",
       "      <td>NaN</td>\n",
       "    </tr>\n",
       "    <tr>\n",
       "      <th>3</th>\n",
       "      <td>14 And b</td>\n",
       "      <td>Confirmed</td>\n",
       "      <td>5.33</td>\n",
       "      <td>0.57</td>\n",
       "      <td>0.57</td>\n",
       "      <td>5.33</td>\n",
       "      <td>0.57</td>\n",
       "      <td>0.57</td>\n",
       "      <td>NaN</td>\n",
       "      <td>NaN</td>\n",
       "      <td>NaN</td>\n",
       "      <td>185.84</td>\n",
       "      <td>0.23</td>\n",
       "      <td>0.23</td>\n",
       "      <td>0.83</td>\n",
       "      <td>NaN</td>\n",
       "      <td>NaN</td>\n",
       "      <td>0.000</td>\n",
       "      <td>NaN</td>\n",
       "      <td>NaN</td>\n",
       "      <td>NaN</td>\n",
       "      <td>NaN</td>\n",
       "      <td>NaN</td>\n",
       "      <td>0.010864</td>\n",
       "      <td>2008.0</td>\n",
       "      <td>2014-08-27</td>\n",
       "      <td>NaN</td>\n",
       "      <td>NaN</td>\n",
       "      <td>NaN</td>\n",
       "      <td>2452861.40</td>\n",
       "      <td>1.50</td>\n",
       "      <td>1.50</td>\n",
       "      <td>NaN</td>\n",
       "      <td>NaN</td>\n",
       "      <td>NaN</td>\n",
       "      <td>NaN</td>\n",
       "      <td>NaN</td>\n",
       "      <td>NaN</td>\n",
       "      <td>NaN</td>\n",
       "      <td>NaN</td>\n",
       "      <td>...</td>\n",
       "      <td>NaN</td>\n",
       "      <td>NaN</td>\n",
       "      <td>NaN</td>\n",
       "      <td>NaN</td>\n",
       "      <td>Published in a refereed paper</td>\n",
       "      <td>Radial Velocity</td>\n",
       "      <td>NaN</td>\n",
       "      <td>NaN</td>\n",
       "      <td>NaN</td>\n",
       "      <td>NaN</td>\n",
       "      <td>14 And</td>\n",
       "      <td>352.820833</td>\n",
       "      <td>39.236111</td>\n",
       "      <td>5.22</td>\n",
       "      <td>4.1</td>\n",
       "      <td>3.02</td>\n",
       "      <td>2.61</td>\n",
       "      <td>2.33</td>\n",
       "      <td>76.4</td>\n",
       "      <td>4.1</td>\n",
       "      <td>4.1</td>\n",
       "      <td>-0.24</td>\n",
       "      <td>NaN</td>\n",
       "      <td>NaN</td>\n",
       "      <td>2.2000</td>\n",
       "      <td>0.200</td>\n",
       "      <td>0.200</td>\n",
       "      <td>11.000</td>\n",
       "      <td>1.000</td>\n",
       "      <td>1.000</td>\n",
       "      <td>K0III</td>\n",
       "      <td>NaN</td>\n",
       "      <td>NaN</td>\n",
       "      <td>NaN</td>\n",
       "      <td>4813.0</td>\n",
       "      <td>20.0</td>\n",
       "      <td>20.0</td>\n",
       "      <td>NaN</td>\n",
       "      <td>NaN</td>\n",
       "      <td>NaN</td>\n",
       "    </tr>\n",
       "    <tr>\n",
       "      <th>4</th>\n",
       "      <td>14 Her b</td>\n",
       "      <td>Confirmed</td>\n",
       "      <td>4.64</td>\n",
       "      <td>0.19</td>\n",
       "      <td>0.19</td>\n",
       "      <td>4.64</td>\n",
       "      <td>0.19</td>\n",
       "      <td>0.19</td>\n",
       "      <td>NaN</td>\n",
       "      <td>NaN</td>\n",
       "      <td>NaN</td>\n",
       "      <td>1773.40</td>\n",
       "      <td>2.50</td>\n",
       "      <td>2.50</td>\n",
       "      <td>2.77</td>\n",
       "      <td>0.05</td>\n",
       "      <td>0.05</td>\n",
       "      <td>0.369</td>\n",
       "      <td>0.005</td>\n",
       "      <td>0.005</td>\n",
       "      <td>NaN</td>\n",
       "      <td>NaN</td>\n",
       "      <td>NaN</td>\n",
       "      <td>0.153039</td>\n",
       "      <td>2002.0</td>\n",
       "      <td>2014-08-27</td>\n",
       "      <td>22.60</td>\n",
       "      <td>0.90</td>\n",
       "      <td>0.90</td>\n",
       "      <td>2451372.70</td>\n",
       "      <td>3.60</td>\n",
       "      <td>3.60</td>\n",
       "      <td>NaN</td>\n",
       "      <td>NaN</td>\n",
       "      <td>NaN</td>\n",
       "      <td>NaN</td>\n",
       "      <td>NaN</td>\n",
       "      <td>NaN</td>\n",
       "      <td>NaN</td>\n",
       "      <td>NaN</td>\n",
       "      <td>...</td>\n",
       "      <td>NaN</td>\n",
       "      <td>NaN</td>\n",
       "      <td>NaN</td>\n",
       "      <td>NaN</td>\n",
       "      <td>Published in a refereed paper</td>\n",
       "      <td>Radial Velocity</td>\n",
       "      <td>NaN</td>\n",
       "      <td>NaN</td>\n",
       "      <td>NaN</td>\n",
       "      <td>NaN</td>\n",
       "      <td>14 Her</td>\n",
       "      <td>242.595833</td>\n",
       "      <td>43.821667</td>\n",
       "      <td>6.67</td>\n",
       "      <td>NaN</td>\n",
       "      <td>NaN</td>\n",
       "      <td>NaN</td>\n",
       "      <td>NaN</td>\n",
       "      <td>18.1</td>\n",
       "      <td>NaN</td>\n",
       "      <td>NaN</td>\n",
       "      <td>0.43</td>\n",
       "      <td>0.08</td>\n",
       "      <td>0.08</td>\n",
       "      <td>0.9000</td>\n",
       "      <td>NaN</td>\n",
       "      <td>NaN</td>\n",
       "      <td>0.708</td>\n",
       "      <td>0.085</td>\n",
       "      <td>0.085</td>\n",
       "      <td>K0 V</td>\n",
       "      <td>5.100</td>\n",
       "      <td>NaN</td>\n",
       "      <td>NaN</td>\n",
       "      <td>5311.0</td>\n",
       "      <td>87.0</td>\n",
       "      <td>87.0</td>\n",
       "      <td>NaN</td>\n",
       "      <td>NaN</td>\n",
       "      <td>NaN</td>\n",
       "    </tr>\n",
       "  </tbody>\n",
       "</table>\n",
       "<p>5 rows × 98 columns</p>\n",
       "</div>"
      ],
      "text/plain": [
       "     # name planet_status  ...  star_magnetic_field    star_alternate_names\n",
       "0  11 Com b     Confirmed  ...                  NaN                     NaN\n",
       "1  11 Oph b     Confirmed  ...                  NaN  Oph 11A, Oph 1622-2405\n",
       "2  11 UMi b     Confirmed  ...                  NaN                     NaN\n",
       "3  14 And b     Confirmed  ...                  NaN                     NaN\n",
       "4  14 Her b     Confirmed  ...                  NaN                     NaN\n",
       "\n",
       "[5 rows x 98 columns]"
      ]
     },
     "execution_count": 3,
     "metadata": {
      "tags": []
     },
     "output_type": "execute_result"
    }
   ],
   "source": [
    "df.head()"
   ]
  },
  {
   "cell_type": "code",
   "execution_count": 0,
   "metadata": {
    "colab": {
     "base_uri": "https://localhost:8080/",
     "height": 1768
    },
    "colab_type": "code",
    "id": "vVIOX5vs7-F-",
    "outputId": "b9cb7c83-3cfc-4a18-f9e4-0fdcb9b900c6"
   },
   "outputs": [
    {
     "name": "stdout",
     "output_type": "stream",
     "text": [
      "<class 'pandas.core.frame.DataFrame'>\n",
      "RangeIndex: 4069 entries, 0 to 4068\n",
      "Data columns (total 98 columns):\n",
      "# name                        4069 non-null object\n",
      "planet_status                 4069 non-null object\n",
      "mass                          1893 non-null float64\n",
      "mass_error_min                1685 non-null float64\n",
      "mass_error_max                1676 non-null float64\n",
      "mass_sini                     937 non-null float64\n",
      "mass_sini_error_min           780 non-null float64\n",
      "mass_sini_error_max           780 non-null float64\n",
      "radius                        3027 non-null float64\n",
      "radius_error_min              2921 non-null float64\n",
      "radius_error_max              2921 non-null float64\n",
      "orbital_period                3859 non-null float64\n",
      "orbital_period_error_min      3724 non-null float64\n",
      "orbital_period_error_max      3725 non-null float64\n",
      "semi_major_axis               2555 non-null float64\n",
      "semi_major_axis_error_min     1548 non-null float64\n",
      "semi_major_axis_error_max     1548 non-null float64\n",
      "eccentricity                  1508 non-null float64\n",
      "eccentricity_error_min        1223 non-null float64\n",
      "eccentricity_error_max        1209 non-null float64\n",
      "inclination                   846 non-null float64\n",
      "inclination_error_min         802 non-null float64\n",
      "inclination_error_max         804 non-null float64\n",
      "angular_distance              661 non-null float64\n",
      "discovered                    4067 non-null float64\n",
      "updated                       4069 non-null object\n",
      "omega                         915 non-null float64\n",
      "omega_error_min               861 non-null float64\n",
      "omega_error_max               861 non-null float64\n",
      "tperi                         627 non-null float64\n",
      "tperi_error_min               579 non-null float64\n",
      "tperi_error_max               579 non-null float64\n",
      "tconj                         30 non-null float64\n",
      "tconj_error_min               31 non-null float64\n",
      "tconj_error_max               31 non-null float64\n",
      "tzero_tr                      785 non-null float64\n",
      "tzero_tr_error_min            732 non-null float64\n",
      "tzero_tr_error_max            732 non-null float64\n",
      "tzero_tr_sec                  22 non-null float64\n",
      "tzero_tr_sec_error_min        20 non-null float64\n",
      "tzero_tr_sec_error_max        20 non-null float64\n",
      "lambda_angle                  51 non-null float64\n",
      "lambda_angle_error_min        52 non-null float64\n",
      "lambda_angle_error_max        52 non-null float64\n",
      "impact_parameter              406 non-null float64\n",
      "impact_parameter_error_min    390 non-null float64\n",
      "impact_parameter_error_max    390 non-null float64\n",
      "tzero_vr                      37 non-null float64\n",
      "tzero_vr_error_min            34 non-null float64\n",
      "tzero_vr_error_max            34 non-null float64\n",
      "k                             704 non-null float64\n",
      "k_error_min                   703 non-null float64\n",
      "k_error_max                   703 non-null float64\n",
      "temp_calculated               408 non-null float64\n",
      "temp_calculated_error_min     162 non-null float64\n",
      "temp_calculated_error_max     162 non-null float64\n",
      "temp_measured                 39 non-null float64\n",
      "hot_point_lon                 0 non-null float64\n",
      "geometric_albedo              12 non-null float64\n",
      "geometric_albedo_error_min    10 non-null float64\n",
      "geometric_albedo_error_max    10 non-null float64\n",
      "log_g                         27 non-null float64\n",
      "publication                   4069 non-null object\n",
      "detection_type                4069 non-null object\n",
      "mass_detection_type           908 non-null object\n",
      "radius_detection_type         588 non-null object\n",
      "alternate_names               317 non-null object\n",
      "molecules                     63 non-null object\n",
      "star_name                     4036 non-null object\n",
      "ra                            4069 non-null float64\n",
      "dec                           4069 non-null float64\n",
      "mag_v                         1747 non-null float64\n",
      "mag_i                         86 non-null float64\n",
      "mag_j                         2096 non-null float64\n",
      "mag_h                         2084 non-null float64\n",
      "mag_k                         2113 non-null float64\n",
      "star_distance                 2893 non-null float64\n",
      "star_distance_error_min       1338 non-null float64\n",
      "star_distance_error_max       1339 non-null float64\n",
      "star_metallicity              3570 non-null float64\n",
      "star_metallicity_error_min    2660 non-null float64\n",
      "star_metallicity_error_max    2660 non-null float64\n",
      "star_mass                     3658 non-null float64\n",
      "star_mass_error_min           2908 non-null float64\n",
      "star_mass_error_max           2908 non-null float64\n",
      "star_radius                   3543 non-null float64\n",
      "star_radius_error_min         3343 non-null float64\n",
      "star_radius_error_max         3343 non-null float64\n",
      "star_sp_type                  1452 non-null object\n",
      "star_age                      1187 non-null float64\n",
      "star_age_error_min            923 non-null float64\n",
      "star_age_error_max            924 non-null float64\n",
      "star_teff                     3758 non-null float64\n",
      "star_teff_error_min           3489 non-null float64\n",
      "star_teff_error_max           3489 non-null float64\n",
      "star_detected_disc            84 non-null object\n",
      "star_magnetic_field           4 non-null object\n",
      "star_alternate_names          445 non-null object\n",
      "dtypes: float64(84), object(14)\n",
      "memory usage: 3.0+ MB\n"
     ]
    }
   ],
   "source": [
    "df.info()"
   ]
  },
  {
   "cell_type": "markdown",
   "metadata": {
    "colab_type": "text",
    "id": "j2-i_2eCEBMU"
   },
   "source": [
    "# ¿Cuál es el sistema planetario más lejano detectado ?  "
   ]
  },
  {
   "cell_type": "code",
   "execution_count": 0,
   "metadata": {
    "colab": {
     "base_uri": "https://localhost:8080/",
     "height": 51
    },
    "colab_type": "code",
    "id": "g5ZIGBjQX0AB",
    "outputId": "aa969196-1dbd-4612-d10e-6da63d809f88"
   },
   "outputs": [
    {
     "data": {
      "text/plain": [
       "4018    XTE J1751-305 b\n",
       "Name: # name, dtype: object"
      ]
     },
     "execution_count": 41,
     "metadata": {
      "tags": []
     },
     "output_type": "execute_result"
    }
   ],
   "source": [
    "df[df['star_distance']==df['star_distance'].max()]['# name']"
   ]
  },
  {
   "cell_type": "markdown",
   "metadata": {
    "colab_type": "text",
    "id": "iSizarohbhtY"
   },
   "source": [
    "# ¿Cuál es el sistema planetario más cercano detectado?  "
   ]
  },
  {
   "cell_type": "code",
   "execution_count": 0,
   "metadata": {
    "colab": {
     "base_uri": "https://localhost:8080/",
     "height": 51
    },
    "colab_type": "code",
    "id": "qS7kvB2JX1Xd",
    "outputId": "fb7c111a-5db5-4a3f-f268-3657b8145ed2"
   },
   "outputs": [
    {
     "data": {
      "text/plain": [
       "3736    Proxima Centauri b\n",
       "Name: # name, dtype: object"
      ]
     },
     "execution_count": 43,
     "metadata": {
      "tags": []
     },
     "output_type": "execute_result"
    }
   ],
   "source": [
    "df[df['star_distance']==df['star_distance'].min()]['# name']"
   ]
  },
  {
   "cell_type": "markdown",
   "metadata": {
    "colab_type": "text",
    "id": "JOwAKoAPdA2G"
   },
   "source": [
    "# ¿Cuál es el nombre del planeta con mayor excentricidad y cuál es su valor?"
   ]
  },
  {
   "cell_type": "code",
   "execution_count": 0,
   "metadata": {
    "colab": {
     "base_uri": "https://localhost:8080/",
     "height": 68
    },
    "colab_type": "code",
    "id": "HLuxr491YFPB",
    "outputId": "b8bf98fc-88bc-4813-d396-11c5a6586ee8"
   },
   "outputs": [
    {
     "name": "stdout",
     "output_type": "stream",
     "text": [
      "3710    Oumuamua\n",
      "Name: # name, dtype: object\n",
      "Tiene excentricidad de: 1.196\n"
     ]
    }
   ],
   "source": [
    "a1=df[df['eccentricity']==df['eccentricity'].max()]['# name'].astype(str)\n",
    "b1=df['eccentricity'].max().astype(str)\n",
    "print(a)\n",
    "print('Tiene excentricidad de: {b}'.format(b=b))"
   ]
  },
  {
   "cell_type": "markdown",
   "metadata": {
    "colab_type": "text",
    "id": "86PxNMRkb2De"
   },
   "source": [
    "# ¿Cuál es la masa promedio? "
   ]
  },
  {
   "cell_type": "code",
   "execution_count": 0,
   "metadata": {
    "colab": {
     "base_uri": "https://localhost:8080/",
     "height": 34
    },
    "colab_type": "code",
    "id": "O-_izHmwb91Z",
    "outputId": "6580e152-1f10-47c8-ed4c-8148f90a5dca"
   },
   "outputs": [
    {
     "data": {
      "text/plain": [
       "5.1066646236088085"
      ]
     },
     "execution_count": 45,
     "metadata": {
      "tags": []
     },
     "output_type": "execute_result"
    }
   ],
   "source": [
    "df['mass'].mean()"
   ]
  },
  {
   "cell_type": "markdown",
   "metadata": {
    "colab_type": "text",
    "id": "FhPpOR8xERbw"
   },
   "source": [
    "# ¿Se relaciona la masa de los planetas con su radio? ¿Qué nos dice esto acerca de las composiciones de los planetas?"
   ]
  },
  {
   "cell_type": "markdown",
   "metadata": {
    "colab_type": "text",
    "id": "xt4zcUXHGEgI"
   },
   "source": [
    "Para comprar los datos debemos tener algo con que comparar, para esto se va tener en cuenta las cantidades de la Tierra."
   ]
  },
  {
   "cell_type": "code",
   "execution_count": 0,
   "metadata": {
    "colab": {},
    "colab_type": "code",
    "id": "OEuk37pIO08H"
   },
   "outputs": [],
   "source": [
    "MJ=1.9*(10)**(27)\n",
    "MT=5.9*(10)**(24)\n",
    "m=MT/MJ\n",
    "RJ=69.911\n",
    "RT=6.371\n",
    "r=RT/RJ"
   ]
  },
  {
   "cell_type": "code",
   "execution_count": 0,
   "metadata": {
    "colab": {
     "base_uri": "https://localhost:8080/",
     "height": 371
    },
    "colab_type": "code",
    "id": "iIzhT995Z4TU",
    "outputId": "32cf0569-5c21-493c-a9e0-48ef0888c186"
   },
   "outputs": [
    {
     "data": {
      "text/plain": [
       "<matplotlib.collections.LineCollection at 0x7f5862104a90>"
      ]
     },
     "execution_count": 6,
     "metadata": {
      "tags": []
     },
     "output_type": "execute_result"
    },
    {
     "data": {
      "image/png": "[encoded data removed]",
      "text/plain": [
       "<Figure size 1080x360 with 1 Axes>"
      ]
     },
     "metadata": {
      "tags": []
     },
     "output_type": "display_data"
    }
   ],
   "source": [
    "plt.style.use('ggplot')\n",
    "#ax = df.plot(kind='scatter', x='radius',y='mass', logx=True, s=50, figsize=(15,5))\n",
    "ax = df.plot(kind='scatter', x='radius',y='mass', s=50, figsize=(15,5))\n",
    "ax.set_xlabel(\"Radio [RJupiter]\")\n",
    "ax.set_ylabel(\"Masa Planetaria [MJupiter]\")\n",
    "ax.set_title(\"Masa Planetaria en Función del Radio\")\n",
    "ax.hlines(y=m, xmin=0, xmax=7, linewidth=2, color='r')\n",
    "ax.vlines(x=r, ymin=0, ymax=65, linewidth=2, color='r')"
   ]
  },
  {
   "cell_type": "markdown",
   "metadata": {
    "colab_type": "text",
    "id": "GSP7zO0QGVn0"
   },
   "source": [
    "Se observa que para planetas con Masas y Radios parecidos a la tierra se tienen planetas rocosos y para planetas con característica como las de Júpiter se tiene planetas gaseosos o planetas con núcleo rocoso, debido a la gravedad y una atmosfera muy gruesa.   \n",
    "\n",
    " "
   ]
  },
  {
   "cell_type": "markdown",
   "metadata": {
    "colab_type": "text",
    "id": "F8KevkdmLiDD"
   },
   "source": [
    "# ¿Cómo se relaciona los métodos de detección con los datos?"
   ]
  },
  {
   "cell_type": "markdown",
   "metadata": {
    "colab_type": "text",
    "id": "UIaRss9lNad-"
   },
   "source": [
    "La distribución de datos se tiene debido a la naturaleza de los métodos de detección."
   ]
  },
  {
   "cell_type": "code",
   "execution_count": 0,
   "metadata": {
    "colab": {},
    "colab_type": "code",
    "id": "yjEONA-SWgFP"
   },
   "outputs": [],
   "source": [
    "df = df.rename(columns={'detection_type': 'Método de Detección'})\n",
    "#df.info()"
   ]
  },
  {
   "cell_type": "code",
   "execution_count": 0,
   "metadata": {
    "colab": {
     "base_uri": "https://localhost:8080/",
     "height": 484
    },
    "colab_type": "code",
    "id": "uIkysGZGaTLW",
    "outputId": "fdb1bdef-7bb3-480d-81e5-31bf0b7c7ced"
   },
   "outputs": [
    {
     "data": {
      "text/plain": [
       "<matplotlib.legend.Legend at 0x7f585f7f6ef0>"
      ]
     },
     "execution_count": 9,
     "metadata": {
      "tags": []
     },
     "output_type": "execute_result"
    },
    {
     "data": {
      "image/png": "[encoded data removed]",
      "text/plain": [
       "<Figure size 900x504 with 1 Axes>"
      ]
     },
     "metadata": {
      "tags": []
     },
     "output_type": "display_data"
    }
   ],
   "source": [
    "a4_dims = (12.5, 7)\n",
    "fig, ax = plt.subplots(figsize=a4_dims)\n",
    "ax = sns.scatterplot(ax=ax, x=\"semi_major_axis\", y=\"mass\", hue=\"Método de Detección\", data=df, palette='Paired', s=100)\n",
    "ax.set_xlabel(\"Semi Eje Mayor [UA]\")\n",
    "ax.set_ylabel(\"Masa Planetaria [MJupiter]\")\n",
    "ax.set_title(\"Masa Planetaria en Función del Semi Eje Mayor\")\n",
    "ax.semilogx()\n",
    "ax.vlines(x=1, ymin=0, ymax=80, linewidth=2, color='r')\n",
    "plt.legend(loc='center left', bbox_to_anchor=(1.0, 0.45))\n"
   ]
  },
  {
   "cell_type": "markdown",
   "metadata": {
    "colab_type": "text",
    "id": "BvNdQ_NvL-GY"
   },
   "source": [
    "Se observa que los métodos de detección tienen límites ahora de observar los diferentes tipos de planetas."
   ]
  },
  {
   "cell_type": "markdown",
   "metadata": {
    "colab_type": "text",
    "id": "3DuA5pd0fMTg"
   },
   "source": [
    "# ¿Se detectan planetas en todos los tipos de espectro de las estrellas?  "
   ]
  },
  {
   "cell_type": "markdown",
   "metadata": {
    "colab_type": "text",
    "id": "eeZHeNIMfgvo"
   },
   "source": [
    "![Tipos de Espectro](http://k36.kn3.net/E0CF6C6C0.jpg)\n",
    "\n"
   ]
  },
  {
   "cell_type": "code",
   "execution_count": 0,
   "metadata": {
    "colab": {
     "base_uri": "https://localhost:8080/",
     "height": 375
    },
    "colab_type": "code",
    "id": "jECCBZHQVUC2",
    "outputId": "be6a0d78-aab1-4a26-cae5-15a6f6fc9671"
   },
   "outputs": [
    {
     "data": {
      "text/plain": [
       "<matplotlib.axes._subplots.AxesSubplot at 0x7f585bc4e320>"
      ]
     },
     "execution_count": 65,
     "metadata": {
      "tags": []
     },
     "output_type": "execute_result"
    },
    {
     "data": {
      "image/png": "[encoded data removed]",
      "text/plain": [
       "<Figure size 1080x360 with 1 Axes>"
      ]
     },
     "metadata": {
      "tags": []
     },
     "output_type": "display_data"
    }
   ],
   "source": [
    "df['star_sp_type'].value_counts().head(40).plot(kind='bar',title='tipo espectral',figsize=(15,5), color='navy')"
   ]
  },
  {
   "cell_type": "code",
   "execution_count": 0,
   "metadata": {
    "colab": {
     "base_uri": "https://localhost:8080/",
     "height": 204
    },
    "colab_type": "code",
    "id": "Cw9wMkpP6Www",
    "outputId": "5fb9a618-6b20-4f3b-e9fb-2475ee977e2e"
   },
   "outputs": [
    {
     "data": {
      "text/plain": [
       "Primary Transit         2945\n",
       "Radial Velocity          838\n",
       "Imaging                  126\n",
       "Microlensing              95\n",
       "Timing                    42\n",
       "Astrometry                 8\n",
       "TTV                        8\n",
       "Other                      4\n",
       "Primary Transit, TTV       2\n",
       "Controversial              1\n",
       "Name: Método de Detección, dtype: int64"
      ]
     },
     "execution_count": 48,
     "metadata": {
      "tags": []
     },
     "output_type": "execute_result"
    }
   ],
   "source": [
    "df['Método de Detección'].value_counts()"
   ]
  },
  {
   "cell_type": "markdown",
   "metadata": {
    "colab_type": "text",
    "id": "932bl9LsOA4Z"
   },
   "source": [
    "# Tercer Ley de Keppler $T^2=C a^3$"
   ]
  },
  {
   "cell_type": "markdown",
   "metadata": {
    "colab_type": "text",
    "id": "4udtGsQVOfpO"
   },
   "source": [
    "Según la mecánica celeste clásica estos planetas deben cumplir con que  el cuadrado del Periodo es proporcional al cubo del Semieje Mayor."
   ]
  },
  {
   "cell_type": "code",
   "execution_count": 0,
   "metadata": {
    "colab": {},
    "colab_type": "code",
    "id": "xB-QPfN27JKO"
   },
   "outputs": [],
   "source": [
    "df['orbital_period']=df['orbital_period'].apply(lambda x: x*x )\n",
    "\n",
    "df['semi_major_axis']=df['semi_major_axis'].apply(lambda x: x*x*x )"
   ]
  },
  {
   "cell_type": "code",
   "execution_count": 0,
   "metadata": {
    "colab": {
     "base_uri": "https://localhost:8080/",
     "height": 378
    },
    "colab_type": "code",
    "id": "a45HF2jpoUqD",
    "outputId": "3753f90a-47b8-4fd9-d752-af8616d1658f"
   },
   "outputs": [
    {
     "data": {
      "text/plain": [
       "Text(0.5, 1.0, 'Periodo Orbital al Cuadrado en Función del SemiEje Mayor')"
      ]
     },
     "execution_count": 52,
     "metadata": {
      "tags": []
     },
     "output_type": "execute_result"
    },
    {
     "data": {
      "image/png": "[encoded data removed]",
      "text/plain": [
       "<Figure size 1065.6x360 with 1 Axes>"
      ]
     },
     "metadata": {
      "tags": []
     },
     "output_type": "display_data"
    }
   ],
   "source": [
    "ax = df.plot(kind='scatter', x='semi_major_axis', y='orbital_period', s=50, figsize=(14.8,5),logx=False, color='b')\n",
    "ax.set_xlim(-100, 2000)\n",
    "ax.set_ylim(-10**7, 2.5*10**8)\n",
    "ax.set_xlabel(\"SemiEje Mayor $[UA]^3$\")\n",
    "ax.set_ylabel(\"Periodo Orbital $[Yrs]^2$\")\n",
    "ax.set_title(\"Periodo Orbital al Cuadrado en Función del SemiEje Mayor\")"
   ]
  },
  {
   "cell_type": "code",
   "execution_count": 0,
   "metadata": {
    "colab": {},
    "colab_type": "code",
    "id": "zSbOycuQddBa"
   },
   "outputs": [],
   "source": []
  }
 ],
 "metadata": {
  "colab": {
   "collapsed_sections": [],
   "name": "Exoplanets.ipynb",
   "provenance": [],
   "toc_visible": true,
   "version": "0.3.2"
  },
  "kernelspec": {
   "display_name": "Python 3",
   "language": "python",
   "name": "python3"
  },
  "language_info": {
   "codemirror_mode": {
    "name": "ipython",
    "version": 3
   },
   "file_extension": ".py",
   "mimetype": "text/x-python",
   "name": "python",
   "nbconvert_exporter": "python",
   "pygments_lexer": "ipython3",
   "version": "3.7.3"
  }
 },
 "nbformat": 4,
 "nbformat_minor": 1
}
